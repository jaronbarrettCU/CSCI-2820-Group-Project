{
  "cells": [
    {
      "cell_type": "markdown",
      "metadata": {
        "id": "Ia9glDYbp2mj"
      },
      "source": [
        "# CSCI 2820 - LINEAR ALGEBRA - Spring 2025\n",
        "\n",
        "\n",
        "\n"
      ],
      "id": "Ia9glDYbp2mj"
    },
    {
      "cell_type": "markdown",
      "metadata": {
        "id": "7Boq23YQp2mk"
      },
      "source": [
        "Make sure you fill in any place that says `CODE SOLUTION HERE` or \"CODE SOLUTION HERE\", as well as your NAMES below:"
      ],
      "id": "7Boq23YQp2mk"
    },
    {
      "cell_type": "code",
      "execution_count": null,
      "metadata": {
        "id": "OjacR0nWp2mk"
      },
      "outputs": [],
      "source": [
        "NAMES = \"\"\n",
        "\n"
      ],
      "id": "OjacR0nWp2mk"
    },
    {
      "cell_type": "markdown",
      "metadata": {
        "id": "ZOPxpa_Kp2ml"
      },
      "source": [
        "# FINAL PROJECT (Option 4):  Computer Graphics\n"
      ],
      "id": "ZOPxpa_Kp2ml"
    },
    {
      "cell_type": "code",
      "execution_count": null,
      "metadata": {
        "id": "ekhhpvZpp2ml"
      },
      "outputs": [],
      "source": [
        "## This is a Jupyter notebook for the CU Linear Algebra Final Project.\n",
        "## Professor Divya E. Vernerey\n",
        "## Spring 2025"
      ],
      "id": "ekhhpvZpp2ml"
    },
    {
      "cell_type": "code",
      "execution_count": null,
      "metadata": {
        "id": "qllqpRkhp2ml",
        "outputId": "eebcd2f8-7ca0-4cdd-9645-8af2cf28032a",
        "colab": {
          "base_uri": "https://localhost:8080/"
        }
      },
      "outputs": [
        {
          "output_type": "stream",
          "name": "stdout",
          "text": [
            "Requirement already satisfied: numpy in /usr/local/lib/python3.11/dist-packages (2.0.2)\n",
            "Requirement already satisfied: matplotlib in /usr/local/lib/python3.11/dist-packages (3.10.0)\n",
            "Requirement already satisfied: contourpy>=1.0.1 in /usr/local/lib/python3.11/dist-packages (from matplotlib) (1.3.1)\n",
            "Requirement already satisfied: cycler>=0.10 in /usr/local/lib/python3.11/dist-packages (from matplotlib) (0.12.1)\n",
            "Requirement already satisfied: fonttools>=4.22.0 in /usr/local/lib/python3.11/dist-packages (from matplotlib) (4.56.0)\n",
            "Requirement already satisfied: kiwisolver>=1.3.1 in /usr/local/lib/python3.11/dist-packages (from matplotlib) (1.4.8)\n",
            "Requirement already satisfied: numpy>=1.23 in /usr/local/lib/python3.11/dist-packages (from matplotlib) (2.0.2)\n",
            "Requirement already satisfied: packaging>=20.0 in /usr/local/lib/python3.11/dist-packages (from matplotlib) (24.2)\n",
            "Requirement already satisfied: pillow>=8 in /usr/local/lib/python3.11/dist-packages (from matplotlib) (11.1.0)\n",
            "Requirement already satisfied: pyparsing>=2.3.1 in /usr/local/lib/python3.11/dist-packages (from matplotlib) (3.2.1)\n",
            "Requirement already satisfied: python-dateutil>=2.7 in /usr/local/lib/python3.11/dist-packages (from matplotlib) (2.8.2)\n",
            "Requirement already satisfied: six>=1.5 in /usr/local/lib/python3.11/dist-packages (from python-dateutil>=2.7->matplotlib) (1.17.0)\n"
          ]
        }
      ],
      "source": [
        "# Add libraries you are using\n",
        "!pip install numpy\n",
        "!pip install matplotlib\n"
      ],
      "id": "qllqpRkhp2ml"
    },
    {
      "cell_type": "code",
      "execution_count": null,
      "metadata": {
        "id": "EbD8rXVPp2mm"
      },
      "outputs": [],
      "source": [
        "import numpy as np\n",
        "import matplotlib.pyplot as plt\n"
      ],
      "id": "EbD8rXVPp2mm"
    },
    {
      "cell_type": "markdown",
      "source": [
        "Run the below cell to view graphics"
      ],
      "metadata": {
        "id": "0oEm6VpO8NAq"
      },
      "id": "0oEm6VpO8NAq"
    },
    {
      "cell_type": "code",
      "source": [
        "# @title Please run the Code cell below to view graphics\n",
        "def plot_transformation(original_points, transformed_points, transformation_name):\n",
        "    \"\"\"\n",
        "    Plots original and transformed shapes side-by-side.\n",
        "\n",
        "    Parameters:\n",
        "        original_points (numpy array): Nx2 array of original points.\n",
        "        transformed_points (numpy array): Nx2 array of transformed points.\n",
        "        transformation_name (str): Name of the transformation applied.\n",
        "    \"\"\"\n",
        "    fig, axes = plt.subplots(1, 2, figsize=(10, 4))\n",
        "\n",
        "    # Fixed axis limits\n",
        "    x_limits = (-6, 6)\n",
        "    y_limits = (-6, 6)\n",
        "\n",
        "    # Plot Original Shape\n",
        "    axes[0].set_facecolor(\"#DDEEFF\")\n",
        "    axes[0].plot(original_points[:, 0], original_points[:, 1], 'k-', linewidth=2, label=\"Original\")\n",
        "    axes[0].fill(original_points[:, 0], original_points[:, 1], color='skyblue', alpha=0.7)\n",
        "    axes[0].axhline(0, color='black', linewidth=1, linestyle=\"--\")\n",
        "    axes[0].axvline(0, color='black', linewidth=1, linestyle=\"--\")\n",
        "    axes[0].set_xlim(x_limits)\n",
        "    axes[0].set_ylim(y_limits)\n",
        "    axes[0].set_title(\"Original Shape\", fontsize=14, fontweight='bold', color=\"navy\")\n",
        "    axes[0].legend(fontsize=10, loc=\"upper left\", frameon=True, facecolor=\"white\", edgecolor=\"gray\")\n",
        "\n",
        "    # Label each point of the original shape\n",
        "    for i, (x, y) in enumerate(original_points[:-1]):\n",
        "        axes[0].text(x, y, f\"({x:.2f}, {y:.2f})\", fontsize=12, fontweight='bold', color=\"darkblue\", verticalalignment='bottom', horizontalalignment='right')\n",
        "\n",
        "    # Plot Transformed Shape\n",
        "    axes[1].set_facecolor(\"#DDEEFF\")\n",
        "    axes[1].plot(transformed_points[:, 0], transformed_points[:, 1], 'k-', linewidth=2, label=transformation_name)\n",
        "    axes[1].fill(transformed_points[:, 0], transformed_points[:, 1], color='lightcoral', alpha=0.7)\n",
        "    axes[1].axhline(0, color='black', linewidth=1, linestyle=\"--\")\n",
        "    axes[1].axvline(0, color='black', linewidth=1, linestyle=\"--\")\n",
        "    axes[1].set_xlim(x_limits)\n",
        "    axes[1].set_ylim(y_limits)\n",
        "    axes[1].set_title(f\"{transformation_name}\", fontsize=14, fontweight='bold', color=\"darkred\")\n",
        "    axes[1].legend(fontsize=10, loc=\"upper left\", frameon=True, facecolor=\"white\", edgecolor=\"gray\")\n",
        "\n",
        "    # Label each point of the transformed shape\n",
        "    for i, (x, y) in enumerate(transformed_points[:-1]):\n",
        "        axes[1].text(x, y, f\"({x:.2f}, {y:.2f})\", fontsize=12, fontweight='bold', color=\"darkred\", verticalalignment='bottom', horizontalalignment='right')\n",
        "\n",
        "    plt.tight_layout()\n",
        "    plt.show()\n",
        "\n",
        "import matplotlib.pyplot as plt\n",
        "\n",
        "def plot_2d_conversion(points_2d_again):\n",
        "    \"\"\"\n",
        "    Plots converted 2D coordinates after transforming from homogeneous coordinates.\n",
        "\n",
        "    Parameters:\n",
        "        points_2d_again (numpy array): Nx2 array of converted 2D coordinates.\n",
        "    \"\"\"\n",
        "    if points_2d_again is None:\n",
        "        raise NotImplementedError(\"You need to write the return statement in the from_homogeneous function!\")\n",
        "\n",
        "    fig, ax = plt.subplots(figsize=(6, 6))\n",
        "    ax.set_facecolor(\"#E6F7FF\")  # Light blue background\n",
        "\n",
        "    # Plot the converted 2D points\n",
        "    ax.plot(points_2d_again[:, 0], points_2d_again[:, 1], 'ko-', linewidth=2, label=\"Converted Back to 2D\")\n",
        "    ax.fill(points_2d_again[:, 0], points_2d_again[:, 1], color='lightgreen', alpha=0.7)\n",
        "\n",
        "    # Reference Axes\n",
        "    ax.axhline(0, color='black', linewidth=1, linestyle=\"--\")\n",
        "    ax.axvline(0, color='black', linewidth=1, linestyle=\"--\")\n",
        "\n",
        "    # Set limits and remove ticks\n",
        "    ax.set_xticks([])\n",
        "    ax.set_yticks([])\n",
        "    ax.set_xlim(-6, 6)  # Fixed range for consistency\n",
        "    ax.set_ylim(-6, 6)\n",
        "\n",
        "    # Titles and Legends\n",
        "    ax.set_title(\"Converted Back to 2D Coordinates\", fontsize=14, fontweight='bold', color=\"darkgreen\")\n",
        "    ax.legend(fontsize=10, loc=\"upper left\", frameon=True, facecolor=\"white\", edgecolor=\"gray\")\n",
        "\n",
        "    # Label each point with coordinates\n",
        "    for i, (x, y) in enumerate(points_2d_again[:-1]):\n",
        "        vertical_offset = -0.15 if i == 0 else 0.05  # Adjust label placement\n",
        "        ax.text(x, y + vertical_offset, f\"({x:.2f}, {y:.2f})\", fontsize=12, fontweight='bold', color=\"darkgreen\",\n",
        "                verticalalignment='bottom' if i != 0 else 'top', horizontalalignment='center')\n",
        "\n",
        "    plt.show()\n"
      ],
      "metadata": {
        "id": "wJ9-Uuog8Dja"
      },
      "id": "wJ9-Uuog8Dja",
      "execution_count": null,
      "outputs": []
    },
    {
      "cell_type": "markdown",
      "metadata": {
        "id": "cxFh5kGCp2mm"
      },
      "source": [
        "# **Part 1**\n",
        "# **Computer Graphics and Transformations with Linear Algebra**\n",
        "\n",
        "## **Background**  \n",
        "Imagine you are a **computer graphics engineer** working on a **2D game engine**.  \n",
        "Your task is to build a **transformation module** that allows **characters, objects, and UI elements** to be scaled, rotated, translated, and sheared dynamically.\n",
        "\n",
        "You need to implement **fundamental transformations** in a way that is efficient and mathematically robust using **homogeneous coordinates and matrix operations**.\n",
        "\n",
        "## **Objective**\n",
        "\n",
        "This project explores Computer Graphics Transformations using Linear Algebra, focusing on:\n",
        "\n",
        "- Homogeneous Coordinates and their role in transformations.\n",
        "- Shear and Scale Transformations to approximate Rotation.\n",
        "- Eigenvalues and Eigenvectors in Transformation Matrices.\n",
        "- Applying Transformations to Images using Python.\n"
      ],
      "id": "cxFh5kGCp2mm"
    },
    {
      "cell_type": "markdown",
      "source": [
        "## Exercise 1: Homogeneous Coordinates and Transformations\n",
        "\n",
        "\n",
        "\n",
        "\n"
      ],
      "metadata": {
        "id": "_JWB0A15Z6GP"
      },
      "id": "_JWB0A15Z6GP"
    },
    {
      "cell_type": "markdown",
      "source": [
        "###  Task 1 : Homogeneous Coordinates :\n",
        "\n"
      ],
      "metadata": {
        "id": "bQXI-UeEufZn"
      },
      "id": "bQXI-UeEufZn"
    },
    {
      "cell_type": "markdown",
      "source": [
        "Each point $(x, y)$ in $\\mathbb{R}^2$ can be identified with the point $(x, y, 1)$ on the plane in $\\mathbb{R}^3$ that lies one unit above the xy-plane.\n",
        "We say that (x, y) has **homogeneous coordinates** (x, y, 1).\n",
        "For instance, the point (0, 0) has homogeneous coordinates (0, 0, 1).\n",
        "\n",
        "Homogeneous coordinates for points are **not** added or multiplied by scalars, but they **can be transformed** via multiplication by $(3 \\times 3)$ matrices.\n",
        "\n",
        "\n",
        "**Convert 2D points to homogeneous coordinates and back.**\n",
        "\n",
        "1. Complete the function to convert a set of 2D points to homogeneous coordinates.\n",
        "2. Complete the function to convert homogeneous coordinates back to 2D."
      ],
      "metadata": {
        "id": "eiUIbfCCzUiQ"
      },
      "id": "eiUIbfCCzUiQ"
    },
    {
      "cell_type": "code",
      "execution_count": null,
      "metadata": {
        "id": "IWK-PH4_p2mn"
      },
      "outputs": [],
      "source": [
        "\n",
        "points_2d = np.array([\n",
        "    [0, 3],\n",
        "    [-2.5, -1],\n",
        "    [2.5, -1],\n",
        "    [0, 3]\n",
        "], dtype=float)\n",
        "\n"
      ],
      "id": "IWK-PH4_p2mn"
    },
    {
      "cell_type": "code",
      "source": [
        "# TODO: Define function to convert 2D points to homogeneous coordinates\n",
        "def to_homogeneous(points):\n",
        "\n",
        "    \"\"\"Convert Nx2 array of points to Nx3 homogeneous coordinates.\"\"\"\n",
        " # Code Solution here\n",
        "\n",
        "\n",
        "\n",
        "\n",
        "\n",
        "\n",
        "\n",
        "\n",
        "\n",
        "#Do not change the code below\n",
        "\n",
        "points_hom = to_homogeneous(points_2d)\n",
        "\n",
        "print(\"Homogeneous Points:\\n\", points_hom)\n"
      ],
      "metadata": {
        "colab": {
          "base_uri": "https://localhost:8080/"
        },
        "id": "Y9Gfja6ghH3F",
        "outputId": "4b902b24-45e1-4a89-ef53-0e43cf7f502c"
      },
      "id": "Y9Gfja6ghH3F",
      "execution_count": null,
      "outputs": [
        {
          "output_type": "stream",
          "name": "stdout",
          "text": [
            "Homogeneous Points:\n",
            " None\n"
          ]
        }
      ]
    },
    {
      "cell_type": "code",
      "source": [
        "if points_hom is None:\n",
        "    raise NotImplementedError(\"You need to write the return statement in the to_homogeneous function!\")\n",
        "fig = plt.figure(figsize=(8, 6))\n",
        "ax = fig.add_subplot(111, projection='3d')\n",
        "\n",
        "\n",
        "x_hom, y_hom, w_hom = points_hom[:, 0], points_hom[:, 1], points_hom[:, 2]\n",
        "\n",
        "\n",
        "ax.scatter(x_hom, y_hom, w_hom, color='blue', s=100, label=\"Homogeneous Points\")\n",
        "ax.plot(x_hom, y_hom, w_hom, 'bo-', alpha=0.7)\n",
        "\n",
        "\n",
        "ax.set_title(\"Homogeneous Representation of 2D Points\")\n",
        "ax.set_xlabel(\"X-axis\")\n",
        "ax.set_ylabel(\"Y-axis\")\n",
        "ax.set_zlabel(\"W (Homogeneous Coordinate)\")\n",
        "ax.legend()\n",
        "ax.grid(True)\n",
        "\n",
        "plt.show()"
      ],
      "metadata": {
        "colab": {
          "base_uri": "https://localhost:8080/",
          "height": 216
        },
        "id": "D8Yfq-lz2XNY",
        "outputId": "2917bd55-aa78-4167-dd97-0c50a68dd435"
      },
      "id": "D8Yfq-lz2XNY",
      "execution_count": null,
      "outputs": [
        {
          "output_type": "error",
          "ename": "NotImplementedError",
          "evalue": "You need to write the return statement in the to_homogeneous function!",
          "traceback": [
            "\u001b[0;31m---------------------------------------------------------------------------\u001b[0m",
            "\u001b[0;31mNotImplementedError\u001b[0m                       Traceback (most recent call last)",
            "\u001b[0;32m<ipython-input-9-b2eeeed0d7a6>\u001b[0m in \u001b[0;36m<cell line: 0>\u001b[0;34m()\u001b[0m\n\u001b[1;32m      1\u001b[0m \u001b[0;32mif\u001b[0m \u001b[0mpoints_hom\u001b[0m \u001b[0;32mis\u001b[0m \u001b[0;32mNone\u001b[0m\u001b[0;34m:\u001b[0m\u001b[0;34m\u001b[0m\u001b[0;34m\u001b[0m\u001b[0m\n\u001b[0;32m----> 2\u001b[0;31m     \u001b[0;32mraise\u001b[0m \u001b[0mNotImplementedError\u001b[0m\u001b[0;34m(\u001b[0m\u001b[0;34m\"You need to write the return statement in the to_homogeneous function!\"\u001b[0m\u001b[0;34m)\u001b[0m\u001b[0;34m\u001b[0m\u001b[0;34m\u001b[0m\u001b[0m\n\u001b[0m\u001b[1;32m      3\u001b[0m \u001b[0mfig\u001b[0m \u001b[0;34m=\u001b[0m \u001b[0mplt\u001b[0m\u001b[0;34m.\u001b[0m\u001b[0mfigure\u001b[0m\u001b[0;34m(\u001b[0m\u001b[0mfigsize\u001b[0m\u001b[0;34m=\u001b[0m\u001b[0;34m(\u001b[0m\u001b[0;36m8\u001b[0m\u001b[0;34m,\u001b[0m \u001b[0;36m6\u001b[0m\u001b[0;34m)\u001b[0m\u001b[0;34m)\u001b[0m\u001b[0;34m\u001b[0m\u001b[0;34m\u001b[0m\u001b[0m\n\u001b[1;32m      4\u001b[0m \u001b[0max\u001b[0m \u001b[0;34m=\u001b[0m \u001b[0mfig\u001b[0m\u001b[0;34m.\u001b[0m\u001b[0madd_subplot\u001b[0m\u001b[0;34m(\u001b[0m\u001b[0;36m111\u001b[0m\u001b[0;34m,\u001b[0m \u001b[0mprojection\u001b[0m\u001b[0;34m=\u001b[0m\u001b[0;34m'3d'\u001b[0m\u001b[0;34m)\u001b[0m\u001b[0;34m\u001b[0m\u001b[0;34m\u001b[0m\u001b[0m\n\u001b[1;32m      5\u001b[0m \u001b[0;34m\u001b[0m\u001b[0m\n",
            "\u001b[0;31mNotImplementedError\u001b[0m: You need to write the return statement in the to_homogeneous function!"
          ]
        }
      ]
    },
    {
      "cell_type": "code",
      "source": [
        "# TODO: Define function to convert homogeneous coordinates back to 2D\n",
        "def from_homogeneous(h_points):\n",
        "    \"\"\"Convert Nx3 homogeneous points back to Nx2 Cartesian coordinates.\"\"\"\n",
        "\n",
        "\n",
        "     # Code Solution here\n",
        "\n",
        "\n",
        "\n",
        "# Do no touch the code below\n",
        "points_2d_again = from_homogeneous(points_hom)\n",
        "\n",
        "print(\"Converted Back to 2D:\\n\", points_2d_again)\n",
        "plot_2d_conversion(points_2d_again)\n"
      ],
      "metadata": {
        "id": "WE45wuyzhSP9"
      },
      "id": "WE45wuyzhSP9",
      "execution_count": null,
      "outputs": []
    },
    {
      "cell_type": "markdown",
      "source": [
        "Run the Code below to get graphics for all transformations"
      ],
      "metadata": {
        "id": "dx3ZK4Jy5mhX"
      },
      "id": "dx3ZK4Jy5mhX"
    },
    {
      "cell_type": "markdown",
      "source": [
        "### Task 2 : Scaling:\n",
        "\n"
      ],
      "metadata": {
        "id": "k1TWXLmZg2t5"
      },
      "id": "k1TWXLmZg2t5"
    },
    {
      "cell_type": "markdown",
      "source": [
        " An object is represented by a set of points (x, y). If we want to **resize** the object, we scale each point by a factor:\n",
        "\n",
        "$$\n",
        "x' = s_x \\cdot x \\quad y' = s_y \\cdot y\n",
        "$$\n",
        "\n",
        "\n",
        "where $s_x $ and $s_y $ are the **scaling factors**:\n",
        "\n",
        "- If \\( $s_x$, $s_y$ > 1 \\) → The object **expands** (zoom in).\n",
        "- If \\( 0 < $s_x$, $s_y$ < 1 \\) → The object **shrinks** (zoom out).\n",
        "- If \\( $s_x \\neq s_y$ \\) → The object is **stretched non-uniformly**.\n",
        "\n",
        "\n",
        "We can represent **scaling** as a **matrix multiplication** using **homogeneous coordinates**:\n",
        "\n",
        "$$\n",
        "S =\n",
        "\\begin{bmatrix}\n",
        "s_x & 0 & 0 \\\\\n",
        "0 & s_y & 0 \\\\\n",
        "0 & 0 & 1\n",
        "\\end{bmatrix}\n",
        "$$\n",
        "\n",
        "Applying this to a point $(x, y, 1)$:\n",
        "\n",
        "$$\n",
        "\\begin{bmatrix}\n",
        "s_x & 0 & 0 \\\\\n",
        "0 & s_y & 0 \\\\\n",
        "0 & 0 & 1\n",
        "\\end{bmatrix}\n",
        "\\cdot\n",
        "\\begin{bmatrix}\n",
        "x \\\\\n",
        "y \\\\\n",
        "1\n",
        "\\end{bmatrix}\n",
        "=\n",
        "\\begin{bmatrix}\n",
        "s_x \\cdot x \\\\\n",
        "s_y \\cdot y \\\\\n",
        "1\n",
        "\\end{bmatrix}\n",
        "$$\n",
        "\n",
        "Each point is **multiplied** by the **scaling matrix**, resulting in a **scaled version**.\n",
        "\n",
        "\n",
        "Let’s say we **scale an object by a factor of 3**:\n",
        "\n",
        "$$\n",
        "S =\n",
        "\\begin{bmatrix}\n",
        "3 & 0 & 0 \\\\\n",
        "0 & 3 & 0 \\\\\n",
        "0 & 0 & 1\n",
        "\\end{bmatrix}\n",
        "$$\n",
        "\n",
        "For a point $(2,1)$:\n",
        "\n",
        "$$\n",
        "\\begin{bmatrix}\n",
        "3 & 0 & 0 \\\\\n",
        "0 & 3 & 0 \\\\\n",
        "0 & 0 & 1\n",
        "\\end{bmatrix}\n",
        "\\cdot\n",
        "\\begin{bmatrix}\n",
        "2 \\\\\n",
        "1 \\\\\n",
        "1\n",
        "\\end{bmatrix}\n",
        "=\n",
        "\\begin{bmatrix}\n",
        "6 \\\\\n",
        "3 \\\\\n",
        "1\n",
        "\\end{bmatrix}\n",
        "$$\n",
        "\n",
        " The **new point** is **(6,3)** → The object **expands by a factor of 3**.\n",
        "\n",
        "\n",
        "Task 2:\n",
        "\n",
        "1. Define the 3×3 scaling matrix such that:\n",
        "\n",
        "- The x-axis is scaled by 0.8.\n",
        "- The y-axis is scaled by 0.5 .\n",
        "2. Use the homogenous points from previous task.\n",
        "3. Apply the scaling matrix and give back the scaled matrix in 2-D format back.\n",
        "\n",
        "\n",
        "\n",
        "\n"
      ],
      "metadata": {
        "id": "wHSE5dUs0ORN"
      },
      "id": "wHSE5dUs0ORN"
    },
    {
      "cell_type": "code",
      "execution_count": null,
      "metadata": {
        "id": "PnqhJim-p2mo"
      },
      "outputs": [],
      "source": [
        "# TODO: Define function to apply scaling\n",
        "def scale(points, sx, sy):\n",
        "    \"\"\"Apply scaling transformation using homogeneous coordinates.\"\"\"\n",
        "\n",
        "# Code SOlution here\n",
        "\n",
        "\n",
        "\n",
        "sx,sy = 0.8,0.5\n",
        "scaled_points= scale(points_2d, sx, sy)\n",
        "print(\"Original Points:\\n\", points_2d)\n",
        "print(\"Scaled Points:\\n\", scaled_points)\n",
        "plot_transformation(points_2d, scaled_points, \"Scaled (sx=0.8, sy=0.5)\")\n"
      ],
      "id": "PnqhJim-p2mo"
    },
    {
      "cell_type": "markdown",
      "source": [
        "### Task 3 :Translation:\n",
        "\n"
      ],
      "metadata": {
        "id": "ASdvYkPtmjp_"
      },
      "id": "ASdvYkPtmjp_"
    },
    {
      "cell_type": "markdown",
      "source": [
        "Translation moves an object **without changing** its size or orientation.\n",
        "\n",
        "To translate a point $(x, y)$ by $t_x, t_y$, we use:\n",
        "\n",
        "$$\n",
        "x' = x + t_x \\quad y' = y + t_y\n",
        "$$\n",
        "\n",
        "In **homogeneous coordinates**, translation is represented as a 3 x 3 matrix:\n",
        "\n",
        "$$\n",
        "T =\n",
        "\\begin{bmatrix}\n",
        "1 & 0 & t_x \\\\\n",
        "0 & 1 & t_y \\\\\n",
        "0 & 0 & 1\n",
        "\\end{bmatrix}\n",
        "$$\n",
        "\n",
        "Applying this to a point \\((x, y, 1)\\):\n",
        "\n",
        "$$\n",
        "\\begin{bmatrix}\n",
        "1 & 0 & t_x \\\\\n",
        "0 & 1 & t_y \\\\\n",
        "0 & 0 & 1\n",
        "\\end{bmatrix}\n",
        "\\cdot\n",
        "\\begin{bmatrix}\n",
        "x \\\\\n",
        "y \\\\\n",
        "1\n",
        "\\end{bmatrix}\n",
        "=\n",
        "\\begin{bmatrix}\n",
        "x + t_x \\\\\n",
        "y + t_y \\\\\n",
        "1\n",
        "\\end{bmatrix}\n",
        "$$\n",
        "\n",
        "Each point is **added** with the translation vector $$(t_x, t_y)$$, moving it to a new position.\n",
        "\n",
        "\n",
        "\n",
        "Task 3:\n",
        "1. Define the **translation matrix \\( T \\)** that:\n",
        "   - Moves all points **3 units right**.\n",
        "   - Moves all points **-2 units down**.\n",
        "2. Apply \\( T \\) to the given points.\n",
        "3. Convert the translated **homogeneous coordinates** back to **2D**.\n",
        "\n",
        "\n",
        "\n"
      ],
      "metadata": {
        "id": "fJ1K6P1i0cUX"
      },
      "id": "fJ1K6P1i0cUX"
    },
    {
      "cell_type": "code",
      "source": [
        "# TODO: Define function to apply translation\n",
        "def translate(points, tx, ty):\n",
        "    \"\"\"Apply translation transformation using homogeneous coordinates.\"\"\"\n",
        "\n",
        "    #Code Solution Here\n",
        "\n",
        "# Apply translation\n",
        "tx, ty = 3,-2\n",
        "translated_points = translate(points_2d, tx, ty)\n",
        "print(\"Translated Points:\\n\", translated_points)\n",
        "plot_transformation(points_2d, translated_points, \"Translated (tx=3, ty=-2)\")\n"
      ],
      "metadata": {
        "id": "xkoGlpGOp9Dk"
      },
      "id": "xkoGlpGOp9Dk",
      "execution_count": null,
      "outputs": []
    },
    {
      "cell_type": "markdown",
      "source": [
        "### Task 4 : Rotation:\n"
      ],
      "metadata": {
        "id": "99_3s3QDp9g6"
      },
      "id": "99_3s3QDp9g6"
    },
    {
      "cell_type": "markdown",
      "source": [
        "Rotation spins an object **counterclockwise** around the **origin** by an angle $\\theta$.\n",
        "\n",
        "The **new coordinates** after rotation are:\n",
        "\n",
        "$$\n",
        "x' = x \\cos \\theta - y \\sin \\theta\n",
        "$$\n",
        "$$\n",
        "y' = x \\sin \\theta + y \\cos \\theta\n",
        "$$\n",
        "\n",
        "In **homogeneous coordinates**, the **$(3 \\times 3)$ rotation matrix** is:\n",
        "\n",
        "$$\n",
        "R =\n",
        "\\begin{bmatrix}\n",
        "\\cos \\theta & -\\sin \\theta & 0 \\\\\n",
        "\\sin \\theta & \\cos \\theta & 0 \\\\\n",
        "0 & 0 & 1\n",
        "\\end{bmatrix}\n",
        "$$\n",
        "\n",
        "Applying this to a point $$(x, y, 1)$$:\n",
        "\n",
        "$$\n",
        "\\begin{bmatrix}\n",
        "\\cos \\theta & -\\sin \\theta & 0 \\\\\n",
        "\\sin \\theta & \\cos \\theta & 0 \\\\\n",
        "0 & 0 & 1\n",
        "\\end{bmatrix}\n",
        "\\cdot\n",
        "\\begin{bmatrix}\n",
        "x \\\\\n",
        "y \\\\\n",
        "1\n",
        "\\end{bmatrix}\n",
        "=\n",
        "\\begin{bmatrix}\n",
        "x \\cos \\theta - y \\sin \\theta \\\\\n",
        "x \\sin \\theta + y \\cos \\theta \\\\\n",
        "1\n",
        "\\end{bmatrix}\n",
        "$$\n",
        "\n",
        "Each point is **rotated** around the origin by **$(\\theta)$ degrees**.\n",
        "\n",
        "\n",
        "\n",
        "**Example Calculation:**\n",
        "Let’s **rotate** a point (2,1) **by $90^\\circ$ counterclockwise**:\n",
        "\n",
        "$$\n",
        "R =\n",
        "\\begin{bmatrix}\n",
        "0 & -1 & 0 \\\\\n",
        "1 & 0 & 0 \\\\\n",
        "0 & 0 & 1\n",
        "\\end{bmatrix}\n",
        "$$\n",
        "\n",
        "Applying to \\((2,1,1)\\):\n",
        "\n",
        "$$\n",
        "\\begin{bmatrix}\n",
        "0 & -1 & 0 \\\\\n",
        "1 & 0 & 0 \\\\\n",
        "0 & 0 & 1\n",
        "\\end{bmatrix}\n",
        "\\cdot\n",
        "\\begin{bmatrix}\n",
        "2 \\\\\n",
        "1 \\\\\n",
        "1\n",
        "\\end{bmatrix}\n",
        "=\n",
        "\\begin{bmatrix}\n",
        "-1 \\\\\n",
        "2 \\\\\n",
        "1\n",
        "\\end{bmatrix}\n",
        "$$\n",
        "\n",
        " **New position** is **(-1,2)**.\n",
        "\n",
        "Task 4:\n",
        "1. Define the **rotation matrix \\( R \\)** that:\n",
        "   - Rotates all points **by $45^\\circ$ clockwise**.\n",
        "2. Apply \\( R \\) to the given points.\n",
        "3. Convert the rotated **homogeneous coordinates** back to **2D**.\n",
        "\n"
      ],
      "metadata": {
        "id": "HppjyJvw0zhO"
      },
      "id": "HppjyJvw0zhO"
    },
    {
      "cell_type": "code",
      "source": [
        "# TODO: Define function to apply rotation\n",
        "def rotate(points, theta_deg):\n",
        "    \"\"\"Apply rotation transformation about the origin using homogeneous coordinates.\"\"\"\n",
        "\n",
        "    #CodeSolution here\n",
        "    pass\n",
        "\n",
        "\n",
        "rotated_points = rotate(points_2d, theta_deg)\n",
        "print(\"Rotated Points:\\n\", rotated_points)\n",
        "plot_transformation(points_2d, rotated_points, \"Rotated 45° Clockwise\")\n"
      ],
      "metadata": {
        "id": "CCRi-DCgqUTV"
      },
      "id": "CCRi-DCgqUTV",
      "execution_count": null,
      "outputs": []
    },
    {
      "cell_type": "markdown",
      "source": [
        "## Exercise 2: Reflection and Transformations\n",
        "\n"
      ],
      "metadata": {
        "id": "xQS4m223zJSJ"
      },
      "id": "xQS4m223zJSJ"
    },
    {
      "cell_type": "markdown",
      "source": [
        "###  Task 5 : Reflection Transformation\n",
        "\n"
      ],
      "metadata": {
        "id": "pojVbaxOx30P"
      },
      "id": "pojVbaxOx30P"
    },
    {
      "cell_type": "markdown",
      "source": [
        "Reflection flips an object across a line. The most common reflections are:\n",
        "\n",
        "- **Across the x-axis**: The y-coordinates are negated.\n",
        "- **Across the y-axis**: The x-coordinates are negated.\n",
        "- **Across the line** $ y = x $: x and y coordinates are swapped.\n",
        "\n",
        "---\n",
        "\n",
        "**Reflection Matrices**\n",
        "\n",
        "Reflection across the x-axis\n",
        "$$\n",
        "R_x =\n",
        "\\begin{bmatrix}\n",
        "1 & 0 & 0 \\\\\n",
        "0 & -1 & 0 \\\\\n",
        "0 & 0 & 1\n",
        "\\end{bmatrix}\n",
        "$$\n",
        "\n",
        "Reflection across the y-axis\n",
        "$$\n",
        "R_y =\n",
        "\\begin{bmatrix}\n",
        "-1 & 0 & 0 \\\\\n",
        "0 & 1 & 0 \\\\\n",
        "0 & 0 & 1\n",
        "\\end{bmatrix}\n",
        "$$\n",
        "\n",
        "Reflection across the line $ y = x $\n",
        "$$\n",
        "R_{xy} =\n",
        "\\begin{bmatrix}\n",
        "0 & 1 & 0 \\\\\n",
        "1 & 0 & 0 \\\\\n",
        "0 & 0 & 1\n",
        "\\end{bmatrix}\n",
        "$$\n",
        "\n",
        "\n",
        " **Task 5: Implement Reflection**\n",
        "1. Define the **reflection matrix** \\( R \\) based on:\n",
        "   - Reflection across the **x-axis**.\n",
        "   - Reflection across the **y-axis**.\n",
        "   - Reflection across the **line \\( y = x \\)**.\n",
        "2. Apply \\( R \\) to the given **homogeneous points**.\n",
        "3. Convert the **transformed points** back to **2D format**."
      ],
      "metadata": {
        "id": "h2XfOBYp1Zdd"
      },
      "id": "h2XfOBYp1Zdd"
    },
    {
      "cell_type": "code",
      "source": [
        "def reflect(points, axis):\n",
        "\n",
        "\n",
        "  pass #Code Solution Here\n",
        "\n",
        "\n",
        "\n",
        "\n",
        "\n",
        "# Apply reflection\n",
        "reflection_axis = 'x'\n",
        "reflected_points = reflect(points_2d, reflection_axis)\n",
        "\n",
        "# Print results\n",
        "print(\"Original Points:\\n\", points_2d)\n",
        "print(\"Reflected Points:\\n\", reflected_points)\n",
        "\n",
        "reflection_axes = ['x', 'y', 'y=x']\n",
        "reflected_points_dict = {axis: reflect(points_2d, axis) for axis in reflection_axes}\n",
        "\n",
        "# Plot reflections using the reusable function\n",
        "for axis, reflected_points in reflected_points_dict.items():\n",
        "    plot_transformation(original_points=points_2d, transformed_points=reflected_points, transformation_name=f\"Reflected across {axis}\")"
      ],
      "metadata": {
        "id": "s2LtbWh10FTU"
      },
      "id": "s2LtbWh10FTU",
      "execution_count": null,
      "outputs": []
    },
    {
      "cell_type": "markdown",
      "source": [
        "### Task 6 : Composite Affine Transformation: Scaling, Rotation, and Translation  \n",
        "\n"
      ],
      "metadata": {
        "id": "fZ07iHtR9ham"
      },
      "id": "fZ07iHtR9ham"
    },
    {
      "cell_type": "markdown",
      "source": [
        "In **computer graphics**, applying multiple transformations separately can be inefficient. Instead, we combine **scaling, rotation, and translation** into a **single transformation matrix** using matrix multiplication.\n",
        "\n",
        "\n",
        "**Composite Transformation Formula**\n",
        "\n",
        "To apply **scaling, rotation, and translation** in **one step**, we multiply the transformation matrices in the following order:\n",
        "\n",
        "$$\n",
        "M = T \\cdot R \\cdot S\n",
        "$$\n",
        "\n",
        "Where:\n",
        "- \\( S \\) is the **scaling matrix**.\n",
        "- \\( R \\) is the **rotation matrix**.\n",
        "- \\( T \\) is the **translation matrix**.\n",
        "\n",
        "Once computed, we **apply** \\( M \\) to **each point** to transform it in one step.\n",
        "\n",
        "---\n",
        "\n",
        "**Example: Composite Transformation**\n",
        "\n",
        "Let’s **scale, rotate, and translate** an object with the following transformations:\n",
        "- **Scale** by $ 2 $ along $x $ and $ 3 $ along $ y $.\n",
        "- **Rotate** by $ 45^\\circ $ counterclockwise.\n",
        "- **Translate** by $ (5, -3) $\n",
        "\n",
        "**Example Calculation:**\n",
        "$$\n",
        "M = T \\cdot R \\cdot S\n",
        "$$\n",
        "\n",
        "Expanding:\n",
        "\n",
        "$$\n",
        "M =\n",
        "\\begin{bmatrix}\n",
        "1 & 0 & 5 \\\\\n",
        "0 & 1 & -3 \\\\\n",
        "0 & 0 & 1\n",
        "\\end{bmatrix}\n",
        "\\cdot\n",
        "\\begin{bmatrix}\n",
        "\\cos 45^\\circ & -\\sin 45^\\circ & 0 \\\\\n",
        "\\sin 45^\\circ & \\cos 45^\\circ & 0 \\\\\n",
        "0 & 0 & 1\n",
        "\\end{bmatrix}\n",
        "\\cdot\n",
        "\\begin{bmatrix}\n",
        "2 & 0 & 0 \\\\\n",
        "0 & 3 & 0 \\\\\n",
        "0 & 0 & 1\n",
        "\\end{bmatrix}\n",
        "$$\n",
        "\n",
        "Multiplying these **gives the final composite matrix** that we can apply to points.\n",
        "\n",
        "\n",
        "**Task 6: Implement Composite Transformations**\n",
        "Each task below is independent (This means:\n",
        "For Task 6.1, Task 6.2, Task 6.3 → You should NOT apply transformations one after the other on the same already-transformed points.\n",
        "Instead → For each subtask, start with the original points_2d again.) — use the original points for each transformation.\n",
        "\n",
        "You can use the functions written in the tasks above for reflections, translations etc.\n",
        "\n",
        "1. Translate by $(-2,3)$, then Scale $x $ by 0.8 and $ y $ by 1.2. Compute how the area of any shape changes due to the scaling transformation.\n",
        "2. Reflect Through the X-Axis, then Rotate by $ 30^\\circ $\n",
        "3. Rotate points through $60^\\circ $ about the point $(6,8)$\n"
      ],
      "metadata": {
        "id": "kjIYbAmM16sZ"
      },
      "id": "kjIYbAmM16sZ"
    },
    {
      "cell_type": "code",
      "source": [
        "def composite_transform(points, sx, sy, theta_deg, tx, ty):\n",
        "  pass #Code SOlution Here\n",
        "\n",
        "\n",
        "transformed_points = composite_transform(points_2d, sx, sy, theta_deg, tx, ty)\n",
        "\n",
        "# Print results\n",
        "print(\"Original Points:\\n\", points_2d)\n",
        "print(\"Transformed Points:\\n\", transformed_points)"
      ],
      "metadata": {
        "id": "u8e5CyQi9sQe"
      },
      "id": "u8e5CyQi9sQe",
      "execution_count": null,
      "outputs": []
    },
    {
      "cell_type": "markdown",
      "source": [
        "\n",
        "## Exercise 3 : Shear Transformation\n"
      ],
      "metadata": {
        "id": "DY_A82LE0yA5"
      },
      "id": "DY_A82LE0yA5"
    },
    {
      "cell_type": "markdown",
      "source": [
        "### Explanation about Shear Transformations"
      ],
      "metadata": {
        "id": "g0EkWv4C5U1H"
      },
      "id": "g0EkWv4C5U1H"
    },
    {
      "cell_type": "markdown",
      "source": [
        "\n",
        "A **shear transformation** is a type of **linear transformation** that slants an object **horizontally** or **vertically** while preserving **area** and **parallel lines**.\n",
        "\n",
        "Unlike **scaling**, which changes the **size**, or **rotation**, which changes the **orientation**, shear **shifts points proportionally** along an axis.\n",
        "\n",
        "#### **Horizontal Shear (Shearing Along X-Axis)**\n",
        "A **horizontal shear** moves each point **horizontally** by an amount **proportional** to its **y-coordinate**.\n",
        "\n",
        "The **transformation matrix** for **horizontal shear** is:\n",
        "\n",
        "$$\n",
        "S_x =\n",
        "\\begin{bmatrix}\n",
        "1 & k & 0 \\\\\n",
        "0 & 1 & 0 \\\\\n",
        "0 & 0 & 1\n",
        "\\end{bmatrix}\n",
        "$$\n",
        "\n",
        "Where:  \n",
        "- \\( k \\) is the **shear factor** (how much the object is \"slanted\").\n",
        "- If \\( k > 0 \\), the object is **sheared rightward**.\n",
        "- If \\( k < 0 \\), the object is **sheared leftward**.\n",
        "\n",
        "\n",
        "#### **Example: Horizontal Shear**\n",
        "Shear a point **(2,3)** with \\( k = 1.5 \\):\n",
        "\n",
        "$$\n",
        "S_x =\n",
        "\\begin{bmatrix}\n",
        "1 & 1.5 & 0 \\\\\n",
        "0 & 1 & 0 \\\\\n",
        "0 & 0 & 1\n",
        "\\end{bmatrix}\n",
        "$$\n",
        "\n",
        "Applying to **(2,3,1)**:\n",
        "\n",
        "$$\n",
        "\\begin{bmatrix}\n",
        "1 & 1.5 & 0 \\\\\n",
        "0 & 1 & 0 \\\\\n",
        "0 & 0 & 1\n",
        "\\end{bmatrix}\n",
        "\\cdot\n",
        "\\begin{bmatrix}\n",
        "2 \\\\\n",
        "3 \\\\\n",
        "1\n",
        "\\end{bmatrix}\n",
        "=\n",
        "\\begin{bmatrix}\n",
        "6.5 \\\\\n",
        "3 \\\\\n",
        "1\n",
        "\\end{bmatrix}\n",
        "$$\n",
        "\n",
        "**New point** is **(6.5, 3)** → The object was **\"pushed\" rightward**.\n",
        "\n",
        "\n",
        "\n",
        "#### **Vertical Shear (Shearing Along Y-Axis)**  \n",
        "A **vertical shear** moves each point **vertically** by an amount **proportional** to its **x-coordinate**.\n",
        "\n",
        "The **transformation matrix** for **vertical shear** is:\n",
        "\n",
        "$$\n",
        "S_y =\n",
        "\\begin{bmatrix}\n",
        "1 & 0 & 0 \\\\\n",
        "k & 1 & 0 \\\\\n",
        "0 & 0 & 1\n",
        "\\end{bmatrix}\n",
        "$$\n",
        "\n",
        "Where:  \n",
        "- \\( k \\) is the **shear factor**.\n",
        "- If \\( k > 0 \\), the object is **sheared upward**.\n",
        "- If \\( k < 0 \\), the object is **sheared downward**.\n",
        "\n",
        "\n",
        "#### **Example: Vertical Shear**\n",
        "Shear a point **(2,3)** with \\( k = 0.8 \\):\n",
        "\n",
        "$$\n",
        "S_y =\n",
        "\\begin{bmatrix}\n",
        "1 & 0 & 0 \\\\\n",
        "0.8 & 1 & 0 \\\\\n",
        "0 & 0 & 1\n",
        "\\end{bmatrix}\n",
        "$$\n",
        "\n",
        "Applying to **(2,3,1)**:\n",
        "\n",
        "$$\n",
        "\\begin{bmatrix}\n",
        "1 & 0 & 0 \\\\\n",
        "0.8 & 1 & 0 \\\\\n",
        "0 & 0 & 1\n",
        "\\end{bmatrix}\n",
        "\\cdot\n",
        "\\begin{bmatrix}\n",
        "2 \\\\\n",
        "3 \\\\\n",
        "1\n",
        "\\end{bmatrix}\n",
        "=\n",
        "\\begin{bmatrix}\n",
        "2 \\\\\n",
        "4.6 \\\\\n",
        "1\n",
        "\\end{bmatrix}\n",
        "$$\n",
        "\n",
        "**New point** is **(2, 4.6)** → The object was **\"pushed\" upward**.\n",
        "\n",
        "\n",
        "\n",
        "#### **Combined Shear**\n",
        "We can **combine horizontal and vertical shear** by multiplying the **two shear matrices**:\n",
        "\n",
        "$$\n",
        "S = S_y \\cdot S_x\n",
        "$$\n",
        "\n",
        "This results in a **more complex slanting effect**, and when combined with **scaling**, it can approximate **rotation**.\n",
        "\n",
        "\n",
        "\n",
        "\n",
        "\n",
        "\n"
      ],
      "metadata": {
        "id": "mGQooyxoyimj"
      },
      "id": "mGQooyxoyimj"
    },
    {
      "cell_type": "markdown",
      "source": [
        "**Both the tasks below have to be completed in the same code cell**"
      ],
      "metadata": {
        "id": "fhm--OSM4KCh"
      },
      "id": "fhm--OSM4KCh"
    },
    {
      "cell_type": "markdown",
      "source": [
        "### Task 7: Compute the Compression Matrix $C_y $  "
      ],
      "metadata": {
        "id": "0rBmzM0P31Af"
      },
      "id": "0rBmzM0P31Af"
    },
    {
      "cell_type": "markdown",
      "source": [
        "\n",
        "A **vertical shear transformation** $ A_1 $ can be expressed as the product of a **compression matrix** $ C_y $ and a **shear matrix** $ S_y $:\n",
        "\n",
        "$$\n",
        "A_1 = C_y \\cdot S_y\n",
        "$$\n",
        "\n",
        "where the **shear matrix** is:\n",
        "\n",
        "$$\n",
        "S_y =\n",
        "\\begin{bmatrix}\n",
        "1 & 0 & 0 \\\\\n",
        "\\sin \\phi & 1 & 0 \\\\\n",
        "0 & 0 & 1\n",
        "\\end{bmatrix}\n",
        "$$\n",
        "\n",
        "and the **given transformation matrix** is:\n",
        "\n",
        "$$\n",
        "A_1 =\n",
        "\\begin{bmatrix}\n",
        "1 & 0 & 0 \\\\\n",
        "\\sin \\phi & \\cos \\phi & 0 \\\\\n",
        "0 & 0 & 1\n",
        "\\end{bmatrix}\n",
        "$$\n",
        "\n",
        "Compute the compression matrix $C_y$\n",
        "\n",
        "\n",
        "\n",
        "\n"
      ],
      "metadata": {
        "id": "bErFmIaf3G8G"
      },
      "id": "bErFmIaf3G8G"
    },
    {
      "cell_type": "markdown",
      "source": [
        "### **Task 8: Compute the Second Transformation Matrix \\( A_2 \\)**"
      ],
      "metadata": {
        "id": "r0DuE9CO35Ag"
      },
      "id": "r0DuE9CO35Ag"
    },
    {
      "cell_type": "markdown",
      "source": [
        "\n",
        "\n",
        "The final transformation $ M $ results in a **rotation matrix**:\n",
        "\n",
        "$$\n",
        "M = A_2 \\cdot A_1\n",
        "$$\n",
        "\n",
        "where:\n",
        "\n",
        "$$\n",
        "M =\n",
        "\\begin{bmatrix}\n",
        "\\cos \\phi & -\\sin \\phi & 0 \\\\\n",
        "\\sin \\phi & \\cos \\phi & 0 \\\\\n",
        "0 & 0 & 1\n",
        "\\end{bmatrix}\n",
        "$$\n",
        "\n",
        "Compute $A_2$, Given $A_1$ from previous task.\n",
        "\n",
        "Please complete bolth the tasks in the code block below"
      ],
      "metadata": {
        "id": "w6--oiSj3P-6"
      },
      "id": "w6--oiSj3P-6"
    },
    {
      "cell_type": "code",
      "source": [
        "import numpy as np\n",
        "\n",
        "def compute_compression_matrix(A1, Sy):\n",
        "    \"\"\"\n",
        "    \"\"\"\n",
        "    #Code Solution here\n",
        "    pass\n",
        "\n",
        "def compute_second_transformation_matrix(M, A1):\n",
        "    \"\"\"\n",
        "    \"\"\"\n",
        "    # Code Solution here\n",
        "    pass\n",
        "\n",
        "\n",
        "\n",
        "\n",
        "\n",
        "\n",
        "\n",
        "\n",
        "phi = np.radians(30)\n",
        "\n",
        "\n",
        "Sy = np.array([\n",
        "    [1, 0, 0],\n",
        "    [np.sin(phi), 1, 0],\n",
        "    [0, 0, 1]\n",
        "])\n",
        "\n",
        "\n",
        "A1 = np.array([\n",
        "    [1, 0, 0],\n",
        "    [np.sin(phi), np.cos(phi), 0],\n",
        "    [0, 0, 1]\n",
        "])\n",
        "\n",
        "\n",
        "M = np.array([\n",
        "    [np.cos(phi), -np.sin(phi), 0],\n",
        "    [np.sin(phi), np.cos(phi), 0],\n",
        "    [0, 0, 1]\n",
        "])\n",
        "\n",
        "\n",
        "Cy = compute_compression_matrix(A1, Sy)\n",
        "print(\"Compression Matrix Cy:\\n\", Cy)\n",
        "\n",
        "\n",
        "A2 = compute_second_transformation_matrix(M, A1)\n",
        "print(\"Second Transformation Matrix A2:\\n\", A2)\n"
      ],
      "metadata": {
        "id": "Kv0pXHA5H_wT",
        "colab": {
          "base_uri": "https://localhost:8080/"
        },
        "outputId": "e13f91dc-a233-403b-b778-6732f454111b"
      },
      "id": "Kv0pXHA5H_wT",
      "execution_count": null,
      "outputs": [
        {
          "output_type": "stream",
          "name": "stdout",
          "text": [
            "Compression Matrix Cy:\n",
            " None\n",
            "Second Transformation Matrix A2:\n",
            " None\n"
          ]
        }
      ]
    },
    {
      "cell_type": "markdown",
      "source": [
        "## Exercise 4 : Fun Problems\n",
        "\n",
        "\n",
        "\n",
        "\n"
      ],
      "metadata": {
        "id": "pXPuOVWgJhER"
      },
      "id": "pXPuOVWgJhER"
    },
    {
      "cell_type": "markdown",
      "source": [
        "### Task 9 -  Householder Reflection"
      ],
      "metadata": {
        "id": "ha5fL45d2g8M"
      },
      "id": "ha5fL45d2g8M"
    },
    {
      "cell_type": "markdown",
      "source": [
        "\n",
        "A **Householder reflection** is a transformation that **reflects a point across a plane**. Given a **unit vector** \\( u \\), the **reflection matrix** is defined as:\n",
        "\n",
        "$$\n",
        "Q = I - 2P, \\quad \\text{where} \\quad P = uu^T\n",
        "$$\n",
        "\n",
        "Where:\n",
        "\n",
        "- \\( P \\) is the **projection matrix**.\n",
        "- \\( Q \\) represents the **reflection transformation**.\n",
        "\n",
        "The transformation **\\( Qx \\)** is the **mirror image** of \\( x \\) **across the plane** perpendicular to \\( u \\).\n",
        "\n",
        "\n",
        "\n",
        "\n",
        "Let:\n",
        "\n",
        "$$\n",
        "u =\n",
        "\\begin{bmatrix}\n",
        "0 \\\\\n",
        "0 \\\\\n",
        "1\n",
        "\\end{bmatrix}\n",
        ", \\quad\n",
        "x =\n",
        "\\begin{bmatrix}\n",
        "1 \\\\\n",
        "5 \\\\\n",
        "3\n",
        "\\end{bmatrix}\n",
        "$$\n",
        "\n",
        "**Tasks in Task 9:**\n",
        "1. Compute the Projection Matrix\n",
        "2. Compute the Reflection Matrix\n",
        "3. Compute the Transformations $Px$ , $Qx$\n",
        "\n",
        "\n"
      ],
      "metadata": {
        "id": "2r6bq2Aly-_3"
      },
      "id": "2r6bq2Aly-_3"
    },
    {
      "cell_type": "code",
      "source": [
        "\n",
        "# TODO: Define function to compute the projection matrix\n",
        "def compute_projection_matrix(u):\n",
        "    \"\"\"\n",
        "    Compute the projection matrix\n",
        "    \"\"\"\n",
        "    pass  # Code Solution Here\n",
        "\n",
        "\n",
        "def compute_reflection_matrix(u):\n",
        "    \"\"\"\n",
        "    Compute the Householder reflection matrix\n",
        "    \"\"\"\n",
        "    pass  # Code Solution Here\n",
        "\n",
        "\n",
        "def apply_projection(P, x):\n",
        "    \"\"\"\n",
        "    Apply the projection transformation Px.\n",
        "    \"\"\"\n",
        "    pass  # Code Solution Here\n",
        "\n",
        "\n",
        "def apply_reflection(Q, x):\n",
        "    \"\"\"\n",
        "    Apply the Householder reflection transformation Qx.\n",
        "    \"\"\"\n",
        "    pass  # Code Solution Here\n",
        "\n",
        "\n",
        "\n",
        "\n",
        "u = np.array([[0], [0], [1]])\n",
        "x = np.array([[1], [5], [3]])\n",
        "\n",
        "\n",
        "P = compute_projection_matrix(u)\n",
        "\n",
        "\n",
        "Q = compute_reflection_matrix(u)\n",
        "\n",
        "\n",
        "Px = apply_projection(P, x)\n",
        "Qx = apply_reflection(Q, x)\n",
        "\n",
        "\n",
        "print(\"Projection Matrix P:\\n\", P)\n",
        "print(\"Reflection Matrix Q:\\n\", Q)\n",
        "print(\"Projected Point Px:\\n\", Px)\n",
        "print(\"Reflected Point Qx:\\n\", Qx)\n"
      ],
      "metadata": {
        "id": "rWDP_g0TKY5s"
      },
      "id": "rWDP_g0TKY5s",
      "execution_count": null,
      "outputs": []
    },
    {
      "cell_type": "markdown",
      "source": [
        "### Task 10 - RGB Color Mixing"
      ],
      "metadata": {
        "id": "_7gKfvo-2pCq"
      },
      "id": "_7gKfvo-2pCq"
    },
    {
      "cell_type": "markdown",
      "source": [
        "\n",
        "**Problem Statement**\n",
        "In a graphics engine, we need to blend three colors to create a **target color**. We are given the following RGB values for the available colors:\n",
        "\n",
        "- **Orange (C₁) = (255, 100, 50)**\n",
        "- **Green (C₂) = (50, 200, 50)**\n",
        "- **Purple (C₃) = (100, 50, 255)**\n",
        "\n",
        "We want to mix these colors to obtain the **target color**:\n",
        "$\n",
        "(120, 200, 255)\n",
        "$\n",
        "\n",
        "\n",
        "Solve for $ a, b, c $\n",
        "\n",
        "Use Gaussian elimination or matrix inversion to solve the system:"
      ],
      "metadata": {
        "id": "Y4nhxbg9V7Uf"
      },
      "id": "Y4nhxbg9V7Uf"
    },
    {
      "cell_type": "code",
      "source": [
        "import numpy as np\n",
        "\n",
        "def solve_rgb_mixing(A, B):\n",
        "    \"\"\"\n",
        "    Solves the RGB color mixing equation Ax = B for x.\n",
        "\n",
        "    Parameters:\n",
        "    A (numpy array): 4x4 Coefficient matrix representing RGB values of base colors and sum constraint.\n",
        "    B (numpy array): Target RGB color with sum constraint.\n",
        "\n",
        "    Returns:\n",
        "    numpy array: Weights for each base color.\n",
        "    \"\"\"\n",
        "    # Code Solution here\n",
        "    solution = None  # Replace this with the actual solution\n",
        "\n",
        "\n",
        "    print(\"Coefficient Matrix (A):\")\n",
        "    print(A)\n",
        "\n",
        "    print(\"\\nTarget Color (B):\")\n",
        "    print(B)\n",
        "\n",
        "    print(\"\\nComputed Weights:\")\n",
        "    print(solution)\n",
        "\n",
        "    return solution  # Ensure the function returns the computed values\n"
      ],
      "metadata": {
        "id": "BgUzPPP3WcCV"
      },
      "id": "BgUzPPP3WcCV",
      "execution_count": null,
      "outputs": []
    },
    {
      "cell_type": "markdown",
      "source": [
        "### **Task 11: Find the Scaling and Translation Matrix**"
      ],
      "metadata": {
        "id": "2zGGXMpZ2xea"
      },
      "id": "2zGGXMpZ2xea"
    },
    {
      "cell_type": "markdown",
      "source": [
        "\n",
        "\n",
        "You are designing a **2D game** where you need to **scale and shift** a character's position. The character starts at three points:\n",
        "\n",
        "$\n",
        "(1,2), (3,4), (5,6)\n",
        "$\n",
        "\n",
        "After applying an **unknown scaling factor** and **translation**, the new positions become:\n",
        "\n",
        "$\n",
        "(2,5), (6,9), (10,13)\n",
        "$\n",
        "\n",
        "**Transformation Equations**\n",
        "\n",
        "Each transformation follows the general form:\n",
        "\n",
        "$$\n",
        "x' = s x + t_x\n",
        "$$\n",
        "\n",
        "$$\n",
        "y' = s y + t_y\n",
        "$$\n",
        "\n",
        "Using the given points, we derive the system of equations:\n",
        "\n",
        "$$\n",
        "\\begin{aligned}\n",
        "s(1) + t_x &= 2 \\\\\n",
        "s(2) + t_y &= 5 \\\\\n",
        "s(3) + t_x &= 6 \\\\\n",
        "s(4) + t_y &= 9 \\\\\n",
        "s(5) + t_x &= 10 \\\\\n",
        "s(6) + t_y &= 13\n",
        "\\end{aligned}\n",
        "$$\n",
        "\n",
        "**Tasks in Task 11**\n",
        "1. Express the system in **matrix form**.\n",
        "2. Solve for **$ s, t_x, t_y $** using **row reduction (Gaussian elimination)**.\n",
        "3. Write the **final transformation equations** for **$x' $ and $ y' $**.\n",
        "\n"
      ],
      "metadata": {
        "id": "OMP6y-NYY1B9"
      },
      "id": "OMP6y-NYY1B9"
    },
    {
      "cell_type": "code",
      "source": [
        "def find_scaling_translation(A, B):\n",
        "    \"\"\"\n",
        "    Solves for scaling factor (s) and translation values (t_x, t_y)\n",
        "    using row reduction (Gaussian elimination).\n",
        "\n",
        "    Parameters:\n",
        "    A (numpy array): Coefficient matrix.\n",
        "    B (numpy array): Result matrix.\n",
        "\n",
        "    Returns:\n",
        "    numpy array: Solution containing s, t_x, and t_y.\n",
        "    \"\"\"\n",
        "\n",
        "    solution = None\n",
        "\n",
        "    #Code solution here\n",
        "\n",
        "\n",
        "\n",
        "    print(\"Coefficient Matrix (A):\")\n",
        "    print(A)\n",
        "\n",
        "    print(\"\\nResult Matrix (B):\")\n",
        "    print(B)\n",
        "\n",
        "    print(\"\\nComputed Solution (Scaling and Translation):\")\n",
        "    print(solution)\n",
        "\n",
        "    return solution"
      ],
      "metadata": {
        "id": "3Yzsw9ykmJmw"
      },
      "id": "3Yzsw9ykmJmw",
      "execution_count": null,
      "outputs": []
    },
    {
      "cell_type": "markdown",
      "source": [
        "# **Part 2**\n",
        "\n",
        "# **Matrix Operations and Image Manipulation: Theory and Transformations**\n",
        "\n",
        "\n",
        "## **Objective**\n",
        "This notebook presents exercises related to **matrix operations and image processing** using Python. You will implement functions for various image transformations and modifications. Each section includes a brief explanation, followed by starter code to help you get started."
      ],
      "metadata": {
        "id": "fZESzvTOHGfi"
      },
      "id": "fZESzvTOHGfi"
    },
    {
      "cell_type": "markdown",
      "source": [
        "## **1. Load and Display Image**\n",
        "### **Theory:**\n",
        "An image can be represented as a matrix where each element corresponds to a pixel's intensity value. In grayscale images, the matrix is two-dimensional, while in color images, it is three-dimensional (height × width × 3 for RGB channels).\n",
        "\n",
        "### **Matrix Representation:**\n",
        "A grayscale image of size (H, W) is represented as:\n",
        "\n",
        "$$I = \\begin{bmatrix} I_{11} & I_{12} & ... & I_{1W} \\\\\n",
        "I_{21} & I_{22} & ... & I_{2W} \\\\\n",
        "\\vdots & \\vdots & \\ddots & \\vdots \\\\\n",
        "I_{H1} & I_{H2} & ... & I_{HW} \\end{bmatrix}$$\\\n",
        "Each entry  $I_{ij}$ represents the intensity of a pixel at row \\(i\\) and column \\(j\\).\n",
        "\n",
        "\n",
        "\n",
        "---\n",
        "\n",
        "\n",
        "### **Exercise 1:**\n",
        "Download an image of your choice change the path and implement all the functions accordingly.\\\n",
        "Fill in the function `load_image` to read an image in either grayscale or color mode.\n"
      ],
      "metadata": {
        "id": "Kx4kc56yGLlz"
      },
      "id": "Kx4kc56yGLlz"
    },
    {
      "cell_type": "code",
      "source": [
        "# Add libraries you are using\n",
        "!pip install numpy, matplotlib, cv2, tensorflow, pillow, opencv-python"
      ],
      "metadata": {
        "id": "ujjHkCsACn0F"
      },
      "id": "ujjHkCsACn0F",
      "execution_count": null,
      "outputs": []
    },
    {
      "cell_type": "code",
      "source": [
        "import cv2\n",
        "import numpy as np\n",
        "import matplotlib.pyplot as plt\n",
        "\n",
        "def load_image(image_path, grayscale=True):\n",
        "    \"\"\"\n",
        "    Load an image from the given path.\n",
        "    - If grayscale=True, load as a grayscale image.\n",
        "    - Otherwise, load in color.\n",
        "    \"\"\"\n",
        "    # Your code here\n",
        "    pass\n",
        "\n",
        "def show_image(img, title=\"Image\"):\n",
        "    plt.figure(figsize=(6,6))\n",
        "    plt.imshow(img, cmap='gray')\n",
        "    plt.title(title)\n",
        "    plt.axis('off')\n",
        "    plt.show()\n",
        "\n",
        "# Load and display the image\n",
        "image_path = 'your_image_path_here'  # Provide an image path\n",
        "img = load_image(image_path)\n",
        "show_image(img, \"Original Image\")\n",
        "\n"
      ],
      "metadata": {
        "id": "NY-yky2jARug"
      },
      "id": "NY-yky2jARug",
      "execution_count": null,
      "outputs": []
    },
    {
      "cell_type": "markdown",
      "source": [
        "\n",
        "## **2. Image Properties**\n",
        "### **Theory:**\n",
        "Basic image properties include:\n",
        "- **Shape (H, W, C):** Height, Width, and Channels (for RGB images).\n",
        "- **Data Type:** Integer values (0-255 for 8-bit images).\n",
        "- **Min/Max Intensity Values:** Determines the brightness range of the image.\n",
        "\n",
        "### **Matrix Representation:**\n",
        "Each pixel intensity is stored in a matrix, and we can analyze properties by computing:\n",
        "- **Min:** $$ \\min(I) $$\n",
        "- **Max:** $$ \\max(I) $$\n",
        "- **Mean:** $$ \\frac{1}{H \\times W} \\sum_{i=1}^{H} \\sum_{j=1}^{W} I_{ij} $$\n",
        "\n",
        "---\n",
        "### **Exercise 2:**\n",
        "Implement a function to print image dimensions, data type,  min ,max and mean pixel values.\n",
        "\n"
      ],
      "metadata": {
        "id": "hwC3YjVUAWet"
      },
      "id": "hwC3YjVUAWet"
    },
    {
      "cell_type": "code",
      "source": [
        "def image_properties(img):\n",
        "    \"\"\"\n",
        "    Print the properties of an image, including dimensions, data type, min,  max, and  mean pixel values.\n",
        "    \"\"\"\n",
        "    # Your code here\n",
        "    pass\n",
        "\n",
        "image_properties(img)\n",
        "\n",
        "\n"
      ],
      "metadata": {
        "id": "icBNADBNAdq5"
      },
      "id": "icBNADBNAdq5",
      "execution_count": null,
      "outputs": []
    },
    {
      "cell_type": "markdown",
      "source": [
        "\n",
        "\n",
        "## **3. Image Cropping**\n",
        "### **Theory:**\n",
        "Cropping an image involves selecting a submatrix of the original matrix, effectively zooming into a region of interest.\n",
        "\n",
        "### **Matrix Representation:**\n",
        "\n",
        "\n",
        "---\n",
        "A given image $( I )$ of shape $( H \\times W )$ can be indexed using matrix slicing:\n",
        "\n",
        "$$\n",
        "I' = I[Y_s:Y_e, X_s:X_e]\n",
        "$$\n",
        "\n",
        "where:\n",
        "\n",
        "$$\n",
        "X_s = \\frac{W - \\text{crop}_x}{2}, \\quad X_e = X_s + \\text{crop}_x\n",
        "$$\n",
        "\n",
        "$$\n",
        "Y_s = \\frac{H - \\text{crop}_y}{2}, \\quad Y_e = Y_s + \\text{crop}_y\n",
        "$$\n",
        "\n",
        "This is analogous to multiplying by an identity matrix where the cropped region retains its values, and the rest of the matrix is ignored.\n",
        "\n",
        "---\n",
        "### **Exercise 3:**\n",
        "Implement a function to crop the central portion of an image.\n",
        "\n"
      ],
      "metadata": {
        "id": "ExdPK5stAjWi"
      },
      "id": "ExdPK5stAjWi"
    },
    {
      "cell_type": "code",
      "source": [
        "\n",
        "def crop_center(img, crop_x, crop_y):\n",
        "    \"\"\"\n",
        "    Crop the central region of the image with dimensions (crop_x, crop_y).\n",
        "    \"\"\"\n",
        "    # Your code here\n",
        "    pass\n",
        "\n",
        "cropped_img = crop_center(img, 100, 100)\n",
        "show_image(cropped_img, \"Cropped Image\")\n",
        "\n"
      ],
      "metadata": {
        "id": "PR2f1EqyAoXS"
      },
      "id": "PR2f1EqyAoXS",
      "execution_count": null,
      "outputs": []
    },
    {
      "cell_type": "markdown",
      "source": [
        "## **4. Image Flipping**\n",
        "### **Theory:**\n",
        "Flipping an image involves reversing its rows (vertical flip) or columns (horizontal flip).\n",
        "\n",
        "### **Matrix Operations:**\n",
        "- **Vertical Flip:** Reverse row order:\n",
        "  $$\n",
        "  I' = I[::-1, :]\n",
        "  $$\n",
        "- **Horizontal Flip:** Reverse column order:\n",
        "  $$\n",
        "  I' = I[:, ::-1]\n",
        "  $$\n",
        "- **Transpose (90-degree rotation):**\n",
        "  $$\n",
        "  I' = I^T\n",
        "  $$\n",
        "\n",
        "---\n",
        "### **1. Horizontal Flip**\n",
        "A horizontal flip means reversing the column order. This can be achieved using matrix multiplication with a reflection matrix $( M_H )$:\n",
        "\n",
        "$$\n",
        "M_H = \\begin{bmatrix}\n",
        "0 & 0 & \\dots & 1 \\\\\n",
        "0 & 0 & \\dots & 0 \\\\\n",
        "\\vdots & \\vdots & \\ddots & \\vdots \\\\\n",
        "1 & 0 & \\dots & 0\n",
        "\\end{bmatrix}\n",
        "$$\n",
        "\n",
        "Multiplying the image $( I )$ with $( M_H )$:\n",
        "\n",
        "$$\n",
        "I' = I \\cdot M_H\n",
        "$$\n",
        "\n",
        "This swaps the columns of $( I )$, effectively flipping it horizontally.\n",
        "\n",
        "---\n",
        "\n",
        "### **2. Vertical Flip**\n",
        "A vertical flip reverses the row order. This is done using another transformation matrix $( M_V )$:\n",
        "\n",
        "$$\n",
        "M_V = \\begin{bmatrix}\n",
        "0 & 0 & \\dots & 1 \\\\\n",
        "0 & 0 & \\dots & 0 \\\\\n",
        "\\vdots & \\vdots & \\ddots & \\vdots \\\\\n",
        "1 & 0 & \\dots & 0\n",
        "\\end{bmatrix}\n",
        "$$\n",
        "\n",
        "Multiplying $( M_V )$ with $( I )$:\n",
        "\n",
        "$$\n",
        "I' = M_V \\cdot I\n",
        "$$\n",
        "\n",
        "This swaps the rows of $( I )$, flipping it vertically.\n",
        "\n",
        "### **Exercise 4:**\n",
        "Implement a function to flip an image horizontally and vertically.\n",
        "\n"
      ],
      "metadata": {
        "id": "nJmMNOKUAuSo"
      },
      "id": "nJmMNOKUAuSo"
    },
    {
      "cell_type": "code",
      "source": [
        "def flip_image(img, direction):\n",
        "    \"\"\"\n",
        "    Flip the image either horizontally or vertically based on direction.\n",
        "    direction='horizontal' or 'vertical'\n",
        "    \"\"\"\n",
        "    # Your code here\n",
        "    pass\n",
        "\n",
        "flipped_img = flip_image(img, 'horizontal')\n",
        "show_image(flipped_img, \"Horizontally Flipped\")\n",
        "flipped_img = flip_image(img, 'vertical')\n",
        "show_image(flipped_img, \"Vertically Flipped\")\n",
        "\n"
      ],
      "metadata": {
        "id": "TMhFKFjkAxsf"
      },
      "id": "TMhFKFjkAxsf",
      "execution_count": null,
      "outputs": []
    },
    {
      "cell_type": "markdown",
      "source": [
        "## **5. Black and White Conversion**\n",
        "### **Theory:**\n",
        "A black-and-white image contains only two intensity levels (0 and 255), obtained by thresholding a grayscale image.\n",
        "\n",
        "### **Matrix Operation:**\n",
        "$$\n",
        "I' = \\begin{cases} 255, & I \\geq T \\\\\n",
        "0, & I < T \\end{cases}\n",
        "$$\n",
        "\n",
        "where \\(T\\) is the threshold (typically 128).\n",
        "\n",
        "---\n",
        "\n",
        "### **Exercise 5:**\n",
        "Implement a function that converts an image to black and white based on a threshold.\n",
        "\n",
        "\n",
        "\n"
      ],
      "metadata": {
        "id": "o_4-mhCsBA_e"
      },
      "id": "o_4-mhCsBA_e"
    },
    {
      "cell_type": "code",
      "source": [
        "def convert_bw(img, threshold=128):\n",
        "    \"\"\"\n",
        "    Convert an image to black and white using a threshold value.\n",
        "    \"\"\"\n",
        "    # Your code here\n",
        "    pass\n",
        "\n",
        "bw_img = convert_bw(img)\n",
        "show_image(bw_img, \"Black & White Image\")\n",
        "bw_img = convert_bw(img,200)\n",
        "show_image(bw_img, \"Black & White Image\")"
      ],
      "metadata": {
        "id": "YoAf-U2iBFhM"
      },
      "id": "YoAf-U2iBFhM",
      "execution_count": null,
      "outputs": []
    },
    {
      "cell_type": "markdown",
      "source": [
        "## **6: Edge Detection with Sobel Operator**\n",
        "\n",
        "Edge detection is a fundamental operation in image processing used to identify boundaries and features within an image. One popular method for this is the **Sobel Operator**. The Sobel operator uses two convolutional filters that detect changes in pixel intensity in the horizontal and vertical directions.\n",
        "\n",
        "- The **Gradient in the X-direction (Gx)** detects vertical edges.\n",
        "- The **Gradient in the Y-direction (Gy)** detects horizontal edges.\n",
        "\n",
        "The gradients are calculated using matrix convolution, where the kernel (small matrix) slides over the image and performs element-wise multiplication and summation. The Sobel operator uses the following matrices:\n",
        "\n",
        "$$\n",
        "G_x = \\begin{bmatrix}\n",
        "-1 & 0 & 1 \\\\\n",
        "-2 & 0 & 2 \\\\\n",
        "-1 & 0 & 1\n",
        "\\end{bmatrix}, \\quad\n",
        "G_y = \\begin{bmatrix}\n",
        "-1 & -2 & -1 \\\\\n",
        "0 & 0 & 0 \\\\\n",
        "1 & 2 & 1\n",
        "\\end{bmatrix}\n",
        "$$\n",
        "\n",
        "The final edge magnitude is calculated using the formula:\n",
        "\n",
        "$$\n",
        "\\text{Edge Magnitude} = \\sqrt{G_x^2 + G_y^2}\n",
        "$$\n",
        "\n",
        "---\n",
        "\n",
        "### **Exercise 6:**\n",
        "Implement a function that applies convolution using these kernels to detect edges\n"
      ],
      "metadata": {
        "id": "s6YZ7Eu0RgZf"
      },
      "id": "s6YZ7Eu0RgZf"
    },
    {
      "cell_type": "code",
      "execution_count": null,
      "metadata": {
        "id": "SHxrwuCgp2mp"
      },
      "outputs": [],
      "source": [
        "import numpy as np\n",
        "import matplotlib.pyplot as plt\n",
        "from scipy.ndimage import convolve\n",
        "from PIL import Image\n",
        "\n",
        "def apply_sobel_filter(img):\n",
        "    # Your code here: Perform edge detection using Sobel filter\n",
        "    pass\n",
        "\n",
        "\n",
        "# Load and apply Sobel filter\n",
        "image = np.array(Image.open('example.jpg'))\n",
        "edges = apply_sobel_filter(image)\n",
        "plt.imshow(edges, cmap='gray')\n",
        "plt.title('Edge Detection with Sobel Filter')\n",
        "plt.axis('off')\n",
        "plt.show()"
      ],
      "id": "SHxrwuCgp2mp"
    },
    {
      "cell_type": "markdown",
      "source": [
        "## **7: Image Sharpening using Laplacian Filter**\n",
        "\n",
        "\n",
        "Image sharpening is achieved using a **Laplacian Filter**, which is a second-order derivative filter. Unlike edge detection, sharpening involves highlighting regions with high-frequency components (rapid intensity changes).\n",
        "\n",
        "The Laplacian filter is defined as:\n",
        "\n",
        "$$\n",
        "L = \\begin{bmatrix}\n",
        "0 & -1 & 0 \\\\\n",
        "-1 & 4 & -1 \\\\\n",
        "0 & -1 & 0\n",
        "\\end{bmatrix}\n",
        "$$\n",
        "\n",
        "When applied to an image using convolution, it enhances the edges by detecting areas with high contrast. The output from the Laplacian filter can then be added back to the original image to create a sharper result.\n",
        "\n",
        "\n",
        "\n",
        "\n",
        "---\n",
        "\n",
        "### **Exercise 7:**\n",
        "Implement a function that sharpens the image\n"
      ],
      "metadata": {
        "id": "-NB3apfeRrAA"
      },
      "id": "-NB3apfeRrAA"
    },
    {
      "cell_type": "code",
      "source": [
        "from scipy.ndimage import convolve\n",
        "\n",
        "def sharpen_image(img):\n",
        "    # Your code here: Apply Laplacian filter for sharpening\n",
        "    pass\n",
        "\n",
        "# Load and apply sharpening filter\n",
        "sharpened_image = sharpen_image(image)\n",
        "plt.imshow(sharpened_image, cmap='gray')\n",
        "plt.title('Sharpened Image with Laplacian Filter')\n",
        "plt.axis('off')\n",
        "plt.show()"
      ],
      "metadata": {
        "id": "q0u1HxbpRxcv"
      },
      "id": "q0u1HxbpRxcv",
      "execution_count": null,
      "outputs": []
    },
    {
      "cell_type": "markdown",
      "metadata": {
        "id": "fGhkvCowp2mp"
      },
      "source": [
        "## Final Discussion:\n",
        "\n",
        "Please provide a 250-300 word report on what you learned from this project. Provide any more details about the project and expand on your favorite part of the project. Include any other information you have about this."
      ],
      "id": "fGhkvCowp2mp"
    },
    {
      "cell_type": "code",
      "execution_count": null,
      "metadata": {
        "id": "PV5jNU4Qp2mp"
      },
      "outputs": [],
      "source": [
        "## Code solution here."
      ],
      "id": "PV5jNU4Qp2mp"
    }
  ],
  "metadata": {
    "kernelspec": {
      "display_name": "Python 3",
      "language": "python",
      "name": "python3"
    },
    "language_info": {
      "codemirror_mode": {
        "name": "ipython",
        "version": 3
      },
      "file_extension": ".py",
      "mimetype": "text/x-python",
      "name": "python",
      "nbconvert_exporter": "python",
      "pygments_lexer": "ipython3",
      "version": "3.8.5"
    },
    "colab": {
      "provenance": [],
      "collapsed_sections": [
        "bQXI-UeEufZn",
        "k1TWXLmZg2t5",
        "Kx4kc56yGLlz",
        "hwC3YjVUAWet"
      ]
    }
  },
  "nbformat": 4,
  "nbformat_minor": 5
}